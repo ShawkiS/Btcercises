{
 "cells": [
  {
   "cell_type": "markdown",
   "metadata": {},
   "source": [
    "# Bitcoin blocks\n",
    "\n",
    "This is a Jupyter notebook. We're going to use it to go through some examples of how blocks function in the Bitcoin blockchain.\n",
    "\n",
    "To run the code in a cell, press shift-enter."
   ]
  },
  {
   "cell_type": "code",
   "execution_count": null,
   "metadata": {},
   "outputs": [],
   "source": [
    "# First we import everything we need\n",
    "\n",
    "import helper\n",
    "from binascii import hexlify, unhexlify"
   ]
  },
  {
   "cell_type": "markdown",
   "metadata": {},
   "source": [
    "# Cryptographic hashes\n",
    "\n",
    "Cryptographic hashes have the following properties:\n",
    "\n",
    "1. it is *infeasible* to generate a message from its hash value (preimage resistance)\n",
    "2. a small change to a message results in a completely different digest (avalanche effect)\n",
    "3. it is *infeasible* to find two different messages with the same hash value (collision resistance)\n",
    "\n",
    "Let's test (1) and (2):\n",
    "\n",
    "- What's the double sha256 digest of \"devplusplus\"?\n",
    "- What's the double sha256 digest of \"devplusplut\"?\n",
    "- What's the preimage for the digest \"0x707e397fc6c0327b6d9c3a2be68d4fd2456609caa53f8a4fdc7131d3944b516c\"?"
   ]
  },
  {
   "cell_type": "code",
   "execution_count": null,
   "metadata": {},
   "outputs": [],
   "source": [
    "def hash(message):\n",
    "    # hash the block with the nonce\n",
    "    print(\"{0:#0{1}x}\".format(int.from_bytes(helper.double_sha256((message).encode()), 'big'), 66))\n",
    "\n",
    "hash(message=\"devplusplus\")"
   ]
  },
  {
   "cell_type": "markdown",
   "metadata": {},
   "source": [
    "# Proof-of-Work\n",
    "\n",
    "Proof-of-work determines who gets to build the next block in the Bitcoin blockchain. It relies on the fact that a cryptographic hash function is one-way, and the output is essentially randomly distributed.\n",
    "\n",
    "We're going to do some manual proof-of-work over a short message.\n",
    "\n",
    "Find a valid 'block' for the message \"devplusplus\" with 4 bits of difficulty.\n",
    "\n",
    "Try running the `validate_block()` function with the same message but different nonces."
   ]
  },
  {
   "cell_type": "code",
   "execution_count": null,
   "metadata": {},
   "outputs": [],
   "source": [
    "def validate_block(message, nonce, difficulty):\n",
    "    # hash the block with the nonce\n",
    "    block_hash = int.from_bytes(helper.double_sha256((message + nonce).encode()), 'big')\n",
    "    if block_hash < 2 ** (256 - difficulty):\n",
    "        # winner! Our digest was below the target difficulty\n",
    "        print(\"Valid block:    {0:#0{1}x}.\\nNonce = {2}\".format(block_hash, 66, nonce))\n",
    "        return True\n",
    "    else:\n",
    "        # Sorry, your digest was too large!\n",
    "        print(\"Invalid block:  {0:#0{1}x}.\\nNonce = {2}\".format(block_hash, 66, nonce))\n",
    "        return False\n",
    "\n",
    "validate_block(message=\"devplusplus\", nonce=\"nonce1\", difficulty=4)"
   ]
  },
  {
   "cell_type": "markdown",
   "metadata": {},
   "source": [
    "# Validating work\n",
    "\n",
    "Proof-of-work is *hard* to do, but *easy* to validate. Once you and your neighbor have a valid block, verify that their block is valid by running `validate_block()` with their nonce."
   ]
  },
  {
   "cell_type": "code",
   "execution_count": null,
   "metadata": {},
   "outputs": [],
   "source": [
    "validate_block(message=\"devplusplus\", nonce=<put your neighbors nonce here>, difficulty=4)"
   ]
  },
  {
   "cell_type": "markdown",
   "metadata": {},
   "source": [
    "# Difficulty\n",
    "\n",
    "Find the target for block 489888 on the Bitcoin main net. Go to [smartbit.com.au](https://www.smartbit.com.au/block/489888) and use the `Bits` field.\n",
    "\n",
    "Note that the `Bits` field is displayed in Big-endian"
   ]
  },
  {
   "cell_type": "code",
   "execution_count": null,
   "metadata": {},
   "outputs": [],
   "source": [
    "bits = unhexlify('18013ce9')\n",
    "exponent = bits[0]\n",
    "coefficient = int.from_bytes(bits[1:], 'big')\n",
    "target = coefficient*2**(8*(exponent-3))\n",
    "print(\"{0:#0{1}x}\".format(target, 66))"
   ]
  },
  {
   "cell_type": "markdown",
   "metadata": {},
   "source": [
    "Find the target difficulty for block 489888 on the Bitcoin mainnet using `difficulty` from [smartbit.com.au](https://www.smartbit.com.au/block/489888)."
   ]
  },
  {
   "cell_type": "code",
   "execution_count": null,
   "metadata": {},
   "outputs": [],
   "source": [
    "base_difficulty = 0x00000000ffff0000000000000000000000000000000000000000000000000000\n",
    "difficulty = 2\n",
    "target = int(base_difficulty/difficulty)\n",
    "print(\"{0:#0{1}x}\".format(target, 66))# Difficulty"
   ]
  },
  {
   "cell_type": "markdown",
   "metadata": {},
   "source": [
    "# Retarget\n",
    "\n",
    "The timestamp for block 489888 is 1508040302.\n",
    "The timestamp for block 491903 is 1509036725.\n",
    "\n",
    "Calculate what the target should be for block 491904."
   ]
  },
  {
   "cell_type": "code",
   "execution_count": null,
   "metadata": {},
   "outputs": [],
   "source": [
    "def print_target(target):\n",
    "    print(\"{0:#0{1}x}\".format(target, 66))\n",
    "\n",
    "def target_from_bits(bits_in):\n",
    "    bits = unhexlify(bits_in)\n",
    "    exponent = bits[0]\n",
    "    coefficient = int.from_bytes(bits[1:], 'big')\n",
    "    target = coefficient*2**(8*(exponent-3))\n",
    "    print_target(target)\n",
    "    return target\n",
    "\n",
    "target_489888 = target_from_bits('')\n",
    "time_489888 =\n",
    "time_491903 =\n",
    "\n",
    "new_target = target_489888\n",
    "new_target *= (time_491903 - time_489888)\n",
    "new_target /= 14 * 24 * 60 * 60\n",
    "new_target = int(new_target)\n",
    "\n",
    "# this is a bit of a hack to get the top bytes from new_target\n",
    "new_target_top_bytes = new_target.to_bytes((new_target.bit_length() + 7) // 8, 'big')[0:2]\n",
    "new_target_int = int.from_bytes(new_target_top_bytes, 'big') * 2 ** (new_target.bit_length() - 16)\n",
    "\n",
    "print_target(new_target_int)\n",
    "target_from_bits('')"
   ]
  },
  {
   "cell_type": "markdown",
   "metadata": {},
   "source": [
    "# Total Bitcoin supply\n",
    "\n",
    "Let's work out how many Bitcoin there will ever be.\n",
    "\n",
    "We'll work using satoshis in the exercise. There are 100,000,000 satoshi in 1 Bitcoin.\n",
    "\n",
    "- The block subsidy in the first block was 50 Bitcoin\n",
    "- The subsidy halves every 210,000 blocks (approx every 4 years)\n",
    "- The subsidy continues for 32 halvings (approx 128 years)"
   ]
  },
  {
   "cell_type": "code",
   "execution_count": null,
   "metadata": {},
   "outputs": [],
   "source": [
    "INITIAL_SUBSIDY_IN_SATOSHI = # fill in the initial subsidy in Satoshi\n",
    "BLOCKS_PER_HALVINGS = # fill in the number of blocks in a halving period\n",
    "NUMBER_OF_HALVINGS = # fill in the number of halvings\n",
    "\n",
    "total_supply = 0  # There are initially no Bitcoin\n",
    "block_subsidy = INITIAL_SUBSIDY_IN_SATOSHI\n",
    "for halving in range(NUMBER_OF_HALVINGS):\n",
    "    bitcoin_in_halving = block_subsidy * BLOCKS_PER_HALVINGS  # number of new Bitcoin mined in this halving period\n",
    "    total_supply += bitcoin_in_halving  # total supply after this halving period\n",
    "    print(\"After halving {}, there are {} Bitcoin\".format(halving + 1, total_supply / 10**8))\n",
    "    block_subsidy >>= 1  # halve the reward!\n"
   ]
  },
  {
   "cell_type": "markdown",
   "metadata": {},
   "source": [
    "# Blocks\n",
    "\n",
    "We can work with raw blocks using the Block class."
   ]
  },
  {
   "cell_type": "code",
   "execution_count": null,
   "metadata": {},
   "outputs": [],
   "source": [
    "from block import Block\n",
    "from io import BytesIO\n",
    "\n",
    "raw_block = BytesIO(unhexlify('010000006fe28c0ab6f1b372c1a6a246ae63f74f931e8365e15a089c68d6190000000000982051fd1e4ba744bbbe680e1fee14677ba1a3c3540bf7b1cdb606e857233e0e61bc6649ffff001d01e362990101000000010000000000000000000000000000000000000000000000000000000000000000ffffffff0704ffff001d0104ffffffff0100f2052a0100000043410496b538e853519c726a2c91e61ec11600ae1390813a627c66fb8be7947be63c52da7589379515d4e0a604f8141781e62294721166bf621e73a82cbf2342c858eeac00000000'))\n",
    "block_obj = Block.parse(raw_block)\n",
    "print(\"Block hash is {}\".format(hexlify(block_obj.hash())))\n",
    "print(\"Difficulty is {}\".format(block_obj.difficulty()))\n",
    "print(\"Timestamp is {}\".format(block_obj.timestamp))\n"
   ]
  }
 ],
 "metadata": {
  "kernelspec": {
   "display_name": "Python 3",
   "language": "python",
   "name": "python3"
  },
  "language_info": {
   "codemirror_mode": {
    "name": "ipython",
    "version": 3
   },
   "file_extension": ".py",
   "mimetype": "text/x-python",
   "name": "python",
   "nbconvert_exporter": "python",
   "pygments_lexer": "ipython3",
   "version": "3.6.0"
  }
 },
 "nbformat": 4,
 "nbformat_minor": 2
}
