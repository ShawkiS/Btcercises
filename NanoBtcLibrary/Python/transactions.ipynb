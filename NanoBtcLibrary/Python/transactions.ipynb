{
 "cells": [
  {
   "cell_type": "markdown",
   "metadata": {},
   "source": [
    "### Finite Fields\n",
    "\n",
    "`ecc.py` has a class `FieldElement` and the corresponding `FieldElementTest`\n",
    "\n",
    "You can add, subtract, multiply, exponentiate and divide finite fields"
   ]
  },
  {
   "cell_type": "code",
   "execution_count": null,
   "metadata": {},
   "outputs": [],
   "source": [
    "from ecc import FieldElement\n",
    "\n",
    "a = FieldElement(2, 19)\n",
    "b = FieldElement(15, 19)\n",
    "\n",
    "# Add\n",
    "print(a+b) # 17\n",
    "\n",
    "# Subtract\n",
    "print(a-b) # 6\n",
    "\n",
    "# Multiply\n",
    "print(a*b) # 11\n",
    "\n",
    "# Exponentiate\n",
    "print(b**5) # 2\n",
    "\n",
    "# Divide\n",
    "print(a/b) # 9"
   ]
  },
  {
   "cell_type": "markdown",
   "metadata": {},
   "source": [
    "### Elliptic Curves\n",
    "\n",
    "`ecc.py` has a class `Point` and the corresponding `PointTest`\n",
    "\n",
    "You can check equality and add points using the Group Law."
   ]
  },
  {
   "cell_type": "code",
   "execution_count": null,
   "metadata": {},
   "outputs": [],
   "source": [
    "from ecc import Point\n",
    "\n",
    "p0 = Point(x=None, y=None, a=5, b=7)\n",
    "p1 = Point(x=-1, y=1, a=5, b=7)\n",
    "p2 = Point(x=3, y=7, a=5, b=7)\n",
    "\n",
    "# Add identity\n",
    "print(p0+p1) # (-1,1)\n",
    "\n",
    "# Add Different Points\n",
    "print(p1+p2) # (0.25,-2.875)\n",
    "\n",
    "# Add Same Points\n",
    "print(p1+p1) # (18,-77)"
   ]
  },
  {
   "cell_type": "markdown",
   "metadata": {},
   "source": [
    "### Elliptic Curves over Finite Fields\n",
    "\n",
    "We can combine the two classes and everything still goes through"
   ]
  },
  {
   "cell_type": "code",
   "execution_count": null,
   "metadata": {},
   "outputs": [],
   "source": [
    "from ecc import FieldElement, Point\n",
    "\n",
    "a = FieldElement(0, 137)\n",
    "b = FieldElement(7, 137)\n",
    "\n",
    "p0 = Point(x=None, y=None, a=a, b=b)\n",
    "p1 = Point(x=FieldElement(73, 137), y=FieldElement(128, 137), a=a, b=b)\n",
    "p2 = Point(x=FieldElement(46, 137), y=FieldElement(22, 137), a=a, b=b)\n",
    "\n",
    "print(p1+p2)\n",
    "print(p1+p1)"
   ]
  },
  {
   "cell_type": "markdown",
   "metadata": {},
   "source": [
    "### Creating a Group\n",
    "\n",
    "We can create a group by adding a point to itself until we get the identity"
   ]
  },
  {
   "cell_type": "code",
   "execution_count": null,
   "metadata": {},
   "outputs": [],
   "source": [
    "from ecc import FieldElement, Point\n",
    "\n",
    "a = FieldElement(0, 137)\n",
    "b = FieldElement(7, 137)\n",
    "\n",
    "p0 = Point(x=None, y=None, a=a, b=b)\n",
    "p1 = Point(x=FieldElement(73, 137), y=FieldElement(128, 137), a=a, b=b)\n",
    "\n",
    "current = p1\n",
    "n = 1\n",
    "\n",
    "while current != p0:\n",
    "    current += p1\n",
    "    n += 1\n",
    "print(n, p1, n*p1) # order of p1 is 69"
   ]
  },
  {
   "cell_type": "markdown",
   "metadata": {},
   "source": [
    "### SECP256K1\n",
    "\n",
    "`ecc.py` has classes called `S256Field` and `S256Point` which correspond to the FieldElement and Point for the secp256k1 curve.\n",
    "\n",
    "`G` is the Generator Point, or the point that we *always* scalar multiply against."
   ]
  },
  {
   "cell_type": "code",
   "execution_count": null,
   "metadata": {},
   "outputs": [],
   "source": [
    "from ecc import G\n",
    "\n",
    "secret = 999\n",
    "point = secret*G\n",
    "print(point)"
   ]
  },
  {
   "cell_type": "markdown",
   "metadata": {},
   "source": [
    "### SEC\n",
    "\n",
    "Given a point, we can get the compressed and uncompressed SEC format with the `sec()` method"
   ]
  },
  {
   "cell_type": "code",
   "execution_count": null,
   "metadata": {},
   "outputs": [],
   "source": [
    "from binascii import hexlify\n",
    "from ecc import G\n",
    "\n",
    "secret = 999\n",
    "point = secret*G\n",
    "print(hexlify(point.sec(compressed=True))) # shorter\n",
    "print(hexlify(point.sec(compressed=False))) # longer"
   ]
  },
  {
   "cell_type": "markdown",
   "metadata": {},
   "source": [
    "### Address\n",
    "\n",
    "Given a point, we can get the address of the mainnet/testnet, compressed/uncompressed SEC format with the `address()` method."
   ]
  },
  {
   "cell_type": "code",
   "execution_count": null,
   "metadata": {},
   "outputs": [],
   "source": [
    "from ecc import G\n",
    "\n",
    "secret = 999\n",
    "point = secret*G\n",
    "print(point.address(compressed=True, testnet=False))\n",
    "print(point.address(compressed=False, testnet=False))\n",
    "print(point.address(compressed=True, testnet=True))\n",
    "print(point.address(compressed=False, testnet=True))"
   ]
  },
  {
   "cell_type": "markdown",
   "metadata": {},
   "source": [
    "### Signing\n",
    "\n",
    "We can sign with a private key using the `PrivateKey` class's `sign` method\n",
    "\n",
    "### Verification\n",
    "\n",
    "We can verify with a public key (`S256Point`) using the `verify` method."
   ]
  },
  {
   "cell_type": "code",
   "execution_count": null,
   "metadata": {},
   "outputs": [],
   "source": [
    "from ecc import PrivateKey\n",
    "\n",
    "z = 432089432098342098234089098423098324089\n",
    "secret = 999\n",
    "priv_key = PrivateKey(secret)\n",
    "pub_key = priv_key.point\n",
    "sig = priv_key.sign(z)\n",
    "print(sig)\n",
    "print(pub_key.verify(z, sig)) # True"
   ]
  },
  {
   "cell_type": "markdown",
   "metadata": {},
   "source": [
    "### DER\n",
    "\n",
    "We can get the DER format of a signature using the `der` method of the `Signature` class."
   ]
  },
  {
   "cell_type": "code",
   "execution_count": null,
   "metadata": {},
   "outputs": [],
   "source": [
    "from binascii import hexlify\n",
    "from ecc import PrivateKey\n",
    "\n",
    "z = 432089432098342098234089098423098324089\n",
    "secret = 999\n",
    "priv_key = PrivateKey(secret)\n",
    "sig = priv_key.sign(z)\n",
    "print(hexlify(sig.der()))"
   ]
  },
  {
   "cell_type": "markdown",
   "metadata": {},
   "source": [
    "### Transactions\n",
    "\n",
    "We can work with raw transactions using the `Tx` class."
   ]
  },
  {
   "cell_type": "code",
   "execution_count": null,
   "metadata": {},
   "outputs": [],
   "source": [
    "from binascii import unhexlify\n",
    "from io import BytesIO\n",
    "from tx import Tx\n",
    "\n",
    "raw_tx = BytesIO(unhexlify('0100000001813f79011acb80925dfe69b3def355fe914bd1d96a3f5f71bf8303c6a989c7d1000000006b483045022100ed81ff192e75a3fd2304004dcadb746fa5e24c5031ccfcf21320b0277457c98f02207a986d955c6e0cb35d446a89d3f56100f4d7f67801c31967743a9c8e10615bed01210349fc4e631e3624a545de3f89f5d8684c7b8138bd94bdd531d2e213bf016b278afeffffff02a135ef01000000001976a914bc3b654dca7e56b04dca18f2566cdaf02e8d9ada88ac99c39800000000001976a9141c4bc762dd5423e332166702cb75f40df79fea1288ac19430600'))\n",
    "tx_obj = Tx.parse(raw_tx)\n",
    "print(tx_obj)"
   ]
  },
  {
   "cell_type": "markdown",
   "metadata": {},
   "source": [
    "### Transaction Verification\n",
    "\n",
    "We can use the `verify_input` method of the `Tx` class"
   ]
  },
  {
   "cell_type": "code",
   "execution_count": null,
   "metadata": {},
   "outputs": [],
   "source": [
    "from binascii import unhexlify\n",
    "from io import BytesIO\n",
    "from tx import Tx\n",
    "\n",
    "raw_tx = BytesIO(unhexlify('0100000001813f79011acb80925dfe69b3def355fe914bd1d96a3f5f71bf8303c6a989c7d1000000006b483045022100ed81ff192e75a3fd2304004dcadb746fa5e24c5031ccfcf21320b0277457c98f02207a986d955c6e0cb35d446a89d3f56100f4d7f67801c31967743a9c8e10615bed01210349fc4e631e3624a545de3f89f5d8684c7b8138bd94bdd531d2e213bf016b278afeffffff02a135ef01000000001976a914bc3b654dca7e56b04dca18f2566cdaf02e8d9ada88ac99c39800000000001976a9141c4bc762dd5423e332166702cb75f40df79fea1288ac19430600'))\n",
    "tx_obj = Tx.parse(raw_tx)\n",
    "for i, tx_in in enumerate(tx_obj.tx_ins):\n",
    "    print(tx_obj.verify_input(i))"
   ]
  },
  {
   "cell_type": "markdown",
   "metadata": {},
   "source": [
    "### P2SH Address\n",
    "\n",
    "We can use the utility function `h160_to_p2sh_address`"
   ]
  },
  {
   "cell_type": "code",
   "execution_count": null,
   "metadata": {},
   "outputs": [],
   "source": [
    "from binascii import unhexlify\n",
    "from helper import h160_to_p2sh_address\n",
    "\n",
    "print(h160_to_p2sh_address(unhexlify('74d691da1574e6b3c192ecfb52cc8984ee7b6c56'), testnet=False))\n",
    "print(h160_to_p2sh_address(unhexlify('74d691da1574e6b3c192ecfb52cc8984ee7b6c56'), testnet=True))"
   ]
  },
  {
   "cell_type": "markdown",
   "metadata": {},
   "source": [
    "### P2SH Verification\n",
    "\n",
    "We can use the `verify_input` method of the `Tx` class as before."
   ]
  },
  {
   "cell_type": "code",
   "execution_count": null,
   "metadata": {},
   "outputs": [],
   "source": [
    "from binascii import unhexlify\n",
    "from io import BytesIO\n",
    "from tx import Tx\n",
    "\n",
    "raw_tx = BytesIO(unhexlify('0100000001868278ed6ddfb6c1ed3ad5f8181eb0c7a385aa0836f01d5e4789e6bd304d87221a000000db00483045022100dc92655fe37036f47756db8102e0d7d5e28b3beb83a8fef4f5dc0559bddfb94e02205a36d4e4e6c7fcd16658c50783e00c341609977aed3ad00937bf4ee942a8993701483045022100da6bee3c93766232079a01639d07fa869598749729ae323eab8eef53577d611b02207bef15429dcadce2121ea07f233115c6f09034c0be68db99980b9a6c5e75402201475221022626e955ea6ea6d98850c994f9107b036b1334f18ca8830bfff1295d21cfdb702103b287eaf122eea69030a0e9feed096bed8045c8b98bec453e1ffac7fbdbd4bb7152aeffffffff04d3b11400000000001976a914904a49878c0adfc3aa05de7afad2cc15f483a56a88ac7f400900000000001976a914418327e3f3dda4cf5b9089325a4b95abdfa0334088ac722c0c00000000001976a914ba35042cfe9fc66fd35ac2224eebdafd1028ad2788acdc4ace020000000017a91474d691da1574e6b3c192ecfb52cc8984ee7b6c568700000000'))\n",
    "tx_obj = Tx.parse(raw_tx)\n",
    "for i, tx_in in enumerate(tx_obj.tx_ins):\n",
    "    print(tx_obj.verify_input(i))"
   ]
  }
 ],
 "metadata": {
  "kernelspec": {
   "display_name": "Python 3",
   "language": "python",
   "name": "python3"
  },
  "language_info": {
   "codemirror_mode": {
    "name": "ipython",
    "version": 3
   },
   "file_extension": ".py",
   "mimetype": "text/x-python",
   "name": "python",
   "nbconvert_exporter": "python",
   "pygments_lexer": "ipython3",
   "version": "3.6.9"
  }
 },
 "nbformat": 4,
 "nbformat_minor": 2
}
