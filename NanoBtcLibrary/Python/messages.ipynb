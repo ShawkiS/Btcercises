{
 "cells": [
  {
   "cell_type": "markdown",
   "metadata": {},
   "source": [
    "# Messages\n",
    "\n",
    "We can work with raw p2p messages using the NetworkEnvelope class."
   ]
  },
  {
   "cell_type": "code",
   "execution_count": null,
   "metadata": {},
   "outputs": [],
   "source": [
    "from binascii import unhexlify\n",
    "from io import BytesIO\n",
    "\n",
    "from network import NetworkEnvelope\n",
    "\n",
    "raw_message = BytesIO(unhexlify('f9beb4d976657261636b000000000000000000005df6e0e2'))\n",
    "message_obj = NetworkEnvelope.parse(raw_message)\n",
    "print(message_obj)"
   ]
  }
 ],
 "metadata": {
  "kernelspec": {
   "display_name": "Python 3",
   "language": "python",
   "name": "python3"
  },
  "language_info": {
   "codemirror_mode": {
    "name": "ipython",
    "version": 3
   },
   "file_extension": ".py",
   "mimetype": "text/x-python",
   "name": "python",
   "nbconvert_exporter": "python",
   "pygments_lexer": "ipython3",
   "version": "3.6.0"
  }
 },
 "nbformat": 4,
 "nbformat_minor": 2
}
